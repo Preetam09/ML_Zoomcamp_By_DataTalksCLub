{
 "cells": [
  {
   "cell_type": "markdown",
   "id": "8b85219e",
   "metadata": {},
   "source": [
    "# Importing the required datasets and all the libraries."
   ]
  },
  {
   "cell_type": "code",
   "execution_count": 527,
   "id": "c2cb8878",
   "metadata": {},
   "outputs": [],
   "source": [
    "# Importing California Housing Price DataSet\n",
    "\n",
    "import pandas as pd\n",
    "import numpy as np\n",
    "import matplotlib.pyplot as plt\n",
    "import seaborn as sns\n",
    "%matplotlib inline\n",
    "\n",
    "chpd = pd.read_csv('raw.githubusercontent.com_alexeygrigorev_datasets_master_housing.csv')\n",
    "df =chpd.copy()"
   ]
  },
  {
   "cell_type": "markdown",
   "id": "7b2c6e26",
   "metadata": {},
   "source": [
    "## Doing EDA "
   ]
  },
  {
   "cell_type": "code",
   "execution_count": 528,
   "id": "bade8850",
   "metadata": {},
   "outputs": [
    {
     "data": {
      "text/plain": [
       "Index(['longitude', 'latitude', 'housing_median_age', 'total_rooms',\n",
       "       'total_bedrooms', 'population', 'households', 'median_income',\n",
       "       'median_house_value', 'ocean_proximity'],\n",
       "      dtype='object')"
      ]
     },
     "execution_count": 528,
     "metadata": {},
     "output_type": "execute_result"
    }
   ],
   "source": [
    "df.columns"
   ]
  },
  {
   "cell_type": "code",
   "execution_count": 529,
   "id": "82af9756",
   "metadata": {},
   "outputs": [
    {
     "name": "stdout",
     "output_type": "stream",
     "text": [
      "longitude             float64\n",
      "latitude              float64\n",
      "housing_median_age    float64\n",
      "total_rooms           float64\n",
      "total_bedrooms        float64\n",
      "population            float64\n",
      "households            float64\n",
      "median_income         float64\n",
      "median_house_value    float64\n",
      "ocean_proximity        object\n",
      "dtype: object\n",
      "\n",
      "(20640, 10)\n"
     ]
    }
   ],
   "source": [
    "print(df.dtypes)\n",
    "print()\n",
    "print(df.shape)"
   ]
  },
  {
   "cell_type": "code",
   "execution_count": 530,
   "id": "4e4e2ba8",
   "metadata": {},
   "outputs": [
    {
     "data": {
      "text/html": [
       "<div>\n",
       "<style scoped>\n",
       "    .dataframe tbody tr th:only-of-type {\n",
       "        vertical-align: middle;\n",
       "    }\n",
       "\n",
       "    .dataframe tbody tr th {\n",
       "        vertical-align: top;\n",
       "    }\n",
       "\n",
       "    .dataframe thead th {\n",
       "        text-align: right;\n",
       "    }\n",
       "</style>\n",
       "<table border=\"1\" class=\"dataframe\">\n",
       "  <thead>\n",
       "    <tr style=\"text-align: right;\">\n",
       "      <th></th>\n",
       "      <th>longitude</th>\n",
       "      <th>latitude</th>\n",
       "      <th>housing_median_age</th>\n",
       "      <th>total_rooms</th>\n",
       "      <th>total_bedrooms</th>\n",
       "      <th>population</th>\n",
       "      <th>households</th>\n",
       "      <th>median_income</th>\n",
       "      <th>median_house_value</th>\n",
       "    </tr>\n",
       "  </thead>\n",
       "  <tbody>\n",
       "    <tr>\n",
       "      <th>count</th>\n",
       "      <td>20640.000000</td>\n",
       "      <td>20640.000000</td>\n",
       "      <td>20640.000000</td>\n",
       "      <td>20640.000000</td>\n",
       "      <td>20433.000000</td>\n",
       "      <td>20640.000000</td>\n",
       "      <td>20640.000000</td>\n",
       "      <td>20640.000000</td>\n",
       "      <td>20640.000000</td>\n",
       "    </tr>\n",
       "    <tr>\n",
       "      <th>mean</th>\n",
       "      <td>-119.569704</td>\n",
       "      <td>35.631861</td>\n",
       "      <td>28.639486</td>\n",
       "      <td>2635.763081</td>\n",
       "      <td>537.870553</td>\n",
       "      <td>1425.476744</td>\n",
       "      <td>499.539680</td>\n",
       "      <td>3.870671</td>\n",
       "      <td>206855.816909</td>\n",
       "    </tr>\n",
       "    <tr>\n",
       "      <th>std</th>\n",
       "      <td>2.003532</td>\n",
       "      <td>2.135952</td>\n",
       "      <td>12.585558</td>\n",
       "      <td>2181.615252</td>\n",
       "      <td>421.385070</td>\n",
       "      <td>1132.462122</td>\n",
       "      <td>382.329753</td>\n",
       "      <td>1.899822</td>\n",
       "      <td>115395.615874</td>\n",
       "    </tr>\n",
       "    <tr>\n",
       "      <th>min</th>\n",
       "      <td>-124.350000</td>\n",
       "      <td>32.540000</td>\n",
       "      <td>1.000000</td>\n",
       "      <td>2.000000</td>\n",
       "      <td>1.000000</td>\n",
       "      <td>3.000000</td>\n",
       "      <td>1.000000</td>\n",
       "      <td>0.499900</td>\n",
       "      <td>14999.000000</td>\n",
       "    </tr>\n",
       "    <tr>\n",
       "      <th>25%</th>\n",
       "      <td>-121.800000</td>\n",
       "      <td>33.930000</td>\n",
       "      <td>18.000000</td>\n",
       "      <td>1447.750000</td>\n",
       "      <td>296.000000</td>\n",
       "      <td>787.000000</td>\n",
       "      <td>280.000000</td>\n",
       "      <td>2.563400</td>\n",
       "      <td>119600.000000</td>\n",
       "    </tr>\n",
       "    <tr>\n",
       "      <th>50%</th>\n",
       "      <td>-118.490000</td>\n",
       "      <td>34.260000</td>\n",
       "      <td>29.000000</td>\n",
       "      <td>2127.000000</td>\n",
       "      <td>435.000000</td>\n",
       "      <td>1166.000000</td>\n",
       "      <td>409.000000</td>\n",
       "      <td>3.534800</td>\n",
       "      <td>179700.000000</td>\n",
       "    </tr>\n",
       "    <tr>\n",
       "      <th>75%</th>\n",
       "      <td>-118.010000</td>\n",
       "      <td>37.710000</td>\n",
       "      <td>37.000000</td>\n",
       "      <td>3148.000000</td>\n",
       "      <td>647.000000</td>\n",
       "      <td>1725.000000</td>\n",
       "      <td>605.000000</td>\n",
       "      <td>4.743250</td>\n",
       "      <td>264725.000000</td>\n",
       "    </tr>\n",
       "    <tr>\n",
       "      <th>max</th>\n",
       "      <td>-114.310000</td>\n",
       "      <td>41.950000</td>\n",
       "      <td>52.000000</td>\n",
       "      <td>39320.000000</td>\n",
       "      <td>6445.000000</td>\n",
       "      <td>35682.000000</td>\n",
       "      <td>6082.000000</td>\n",
       "      <td>15.000100</td>\n",
       "      <td>500001.000000</td>\n",
       "    </tr>\n",
       "  </tbody>\n",
       "</table>\n",
       "</div>"
      ],
      "text/plain": [
       "          longitude      latitude  housing_median_age   total_rooms  \\\n",
       "count  20640.000000  20640.000000        20640.000000  20640.000000   \n",
       "mean    -119.569704     35.631861           28.639486   2635.763081   \n",
       "std        2.003532      2.135952           12.585558   2181.615252   \n",
       "min     -124.350000     32.540000            1.000000      2.000000   \n",
       "25%     -121.800000     33.930000           18.000000   1447.750000   \n",
       "50%     -118.490000     34.260000           29.000000   2127.000000   \n",
       "75%     -118.010000     37.710000           37.000000   3148.000000   \n",
       "max     -114.310000     41.950000           52.000000  39320.000000   \n",
       "\n",
       "       total_bedrooms    population    households  median_income  \\\n",
       "count    20433.000000  20640.000000  20640.000000   20640.000000   \n",
       "mean       537.870553   1425.476744    499.539680       3.870671   \n",
       "std        421.385070   1132.462122    382.329753       1.899822   \n",
       "min          1.000000      3.000000      1.000000       0.499900   \n",
       "25%        296.000000    787.000000    280.000000       2.563400   \n",
       "50%        435.000000   1166.000000    409.000000       3.534800   \n",
       "75%        647.000000   1725.000000    605.000000       4.743250   \n",
       "max       6445.000000  35682.000000   6082.000000      15.000100   \n",
       "\n",
       "       median_house_value  \n",
       "count        20640.000000  \n",
       "mean        206855.816909  \n",
       "std         115395.615874  \n",
       "min          14999.000000  \n",
       "25%         119600.000000  \n",
       "50%         179700.000000  \n",
       "75%         264725.000000  \n",
       "max         500001.000000  "
      ]
     },
     "execution_count": 530,
     "metadata": {},
     "output_type": "execute_result"
    }
   ],
   "source": [
    "df.describe()"
   ]
  },
  {
   "cell_type": "code",
   "execution_count": 531,
   "id": "ec13ad99",
   "metadata": {},
   "outputs": [
    {
     "data": {
      "image/png": "[encoded data removed]",
      "text/plain": [
       "<Figure size 600x600 with 1 Axes>"
      ]
     },
     "metadata": {},
     "output_type": "display_data"
    }
   ],
   "source": [
    "## Histogram for data distribution.\n",
    "plt.figure(figsize=(6, 6))\n",
    "\n",
    "sns.histplot(df.median_house_value, bins=50, color='black', alpha=0.2)\n",
    "plt.ylabel('Frequency')\n",
    "plt.xlabel('Median_Price')\n",
    "plt.title('Distribution of prices')\n",
    "\n",
    "plt.show()"
   ]
  },
  {
   "cell_type": "markdown",
   "id": "bb3285f7",
   "metadata": {},
   "source": [
    "## Q1.There's one feature with missing values. What is it?"
   ]
  },
  {
   "cell_type": "code",
   "execution_count": 532,
   "id": "a85b8d07",
   "metadata": {},
   "outputs": [
    {
     "data": {
      "text/plain": [
       "longitude               0\n",
       "latitude                0\n",
       "housing_median_age      0\n",
       "total_rooms             0\n",
       "total_bedrooms        207\n",
       "population              0\n",
       "households              0\n",
       "median_income           0\n",
       "median_house_value      0\n",
       "ocean_proximity         0\n",
       "dtype: int64"
      ]
     },
     "execution_count": 532,
     "metadata": {},
     "output_type": "execute_result"
    }
   ],
   "source": [
    "df.isnull().sum()"
   ]
  },
  {
   "cell_type": "markdown",
   "id": "759641ed",
   "metadata": {},
   "source": [
    "## Q2.What's the median (50% percentile) for variable 'population'?"
   ]
  },
  {
   "cell_type": "code",
   "execution_count": 533,
   "id": "6f8b89e0",
   "metadata": {},
   "outputs": [
    {
     "name": "stdout",
     "output_type": "stream",
     "text": [
      "     longitude  latitude  housing_median_age  total_rooms  total_bedrooms  \\\n",
      "701    -121.97     37.64                32.0       1283.0           194.0   \n",
      "830    -121.99     37.61                 9.0       3666.0           711.0   \n",
      "859    -121.97     37.57                21.0       4342.0           783.0   \n",
      "860    -121.96     37.58                15.0       3575.0           597.0   \n",
      "861    -121.98     37.58                20.0       4126.0          1031.0   \n",
      "\n",
      "     population  households  median_income  median_house_value ocean_proximity  \n",
      "701       485.0       171.0         6.0574            431000.0       <1H OCEAN  \n",
      "830      2341.0       703.0         4.6458            217000.0       <1H OCEAN  \n",
      "859      2172.0       789.0         4.6146            247600.0       <1H OCEAN  \n",
      "860      1777.0       559.0         5.7192            283500.0       <1H OCEAN  \n",
      "861      2079.0       975.0         3.6832            216900.0       <1H OCEAN  \n"
     ]
    },
    {
     "data": {
      "text/plain": [
       "1195.0"
      ]
     },
     "execution_count": 533,
     "metadata": {},
     "output_type": "execute_result"
    }
   ],
   "source": [
    "# \n",
    "inland = np.array(df['ocean_proximity'] == 'INLAND')\n",
    "ocean = np.array(df['ocean_proximity'] == '<1H OCEAN')\n",
    "req = inland | ocean\n",
    "df = df[req]\n",
    "print(df.head(5))\n",
    "del df['ocean_proximity']\n",
    "df.head(5)\n",
    "#\n",
    "df.population.describe()['50%']"
   ]
  },
  {
   "cell_type": "markdown",
   "id": "c21a8085",
   "metadata": {},
   "source": [
    "## Preparing the Dataset "
   ]
  },
  {
   "cell_type": "code",
   "execution_count": 534,
   "id": "fd4a743e",
   "metadata": {},
   "outputs": [
    {
     "data": {
      "text/plain": [
       "(9413, 3137, 3137)"
      ]
     },
     "execution_count": 534,
     "metadata": {},
     "output_type": "execute_result"
    }
   ],
   "source": [
    "#\n",
    "df_size = df.shape[0]\n",
    "s = np.arange(df_size)\n",
    "#\n",
    "df_test_size = int(df_size*0.2)\n",
    "df_val_size = int(df_size*0.2)\n",
    "df_train_size = df_size- df_test_size- df_val_size\n",
    "#\n",
    "np.random.seed(42)\n",
    "np.random.shuffle(s)\n",
    "#\n",
    "df_train = df.iloc[s[:df_train_size]]\n",
    "df_val = df.iloc[s[df_train_size:df_train_size+df_val_size]]\n",
    "df_test = df.iloc[s[df_train_size+df_val_size:]]\n",
    "#\n",
    "df_train = df_train.reset_index(drop = True)\n",
    "df_val = df_val.reset_index(drop = True)\n",
    "df_test = df_test.reset_index(drop = True)\n",
    "#\n",
    "df_train_size, df_val_size, df_test_size"
   ]
  },
  {
   "cell_type": "code",
   "execution_count": 535,
   "id": "9ced5bd2",
   "metadata": {},
   "outputs": [
    {
     "name": "stdout",
     "output_type": "stream",
     "text": [
      "(9413, 9)\n",
      "\n"
     ]
    },
    {
     "data": {
      "text/plain": [
       "Index(['longitude', 'latitude', 'housing_median_age', 'total_rooms',\n",
       "       'total_bedrooms', 'population', 'households', 'median_income',\n",
       "       'median_house_value'],\n",
       "      dtype='object')"
      ]
     },
     "execution_count": 535,
     "metadata": {},
     "output_type": "execute_result"
    }
   ],
   "source": [
    "print(df_train.shape)\n",
    "print()\n",
    "df.columns"
   ]
  },
  {
   "cell_type": "code",
   "execution_count": 536,
   "id": "b7780c4e",
   "metadata": {},
   "outputs": [],
   "source": [
    "y_train = df_train['median_house_value'].values\n",
    "y_val = df_val['median_house_value'].values\n",
    "y_test = df_test['median_house_value'].values\n",
    "\n",
    "del df_train['median_house_value']\n",
    "del df_test['median_house_value']\n",
    "del df_val['median_house_value']"
   ]
  },
  {
   "cell_type": "code",
   "execution_count": 537,
   "id": "eea3d707",
   "metadata": {},
   "outputs": [],
   "source": [
    "y_train = np.log1p(y_train)\n",
    "y_val = np.log1p(y_val)\n",
    "y_test = np.log1p(y_test)"
   ]
  },
  {
   "cell_type": "code",
   "execution_count": 538,
   "id": "26e22b97",
   "metadata": {},
   "outputs": [
    {
     "data": {
      "text/plain": [
       "longitude              0\n",
       "latitude               0\n",
       "housing_median_age     0\n",
       "total_rooms            0\n",
       "total_bedrooms        94\n",
       "population             0\n",
       "households             0\n",
       "median_income          0\n",
       "dtype: int64"
      ]
     },
     "execution_count": 538,
     "metadata": {},
     "output_type": "execute_result"
    }
   ],
   "source": [
    "df_train.isnull().sum()"
   ]
  },
  {
   "cell_type": "code",
   "execution_count": 539,
   "id": "ae14f055",
   "metadata": {},
   "outputs": [],
   "source": [
    "x_train_z = df_train.copy()\n",
    "x_train_m = df_train.copy()\n",
    "x_train_z = x_train_z.fillna(0)\n",
    "x_train_m = x_train_m.fillna(df_train.total_bedrooms.mean())\n",
    "req_mean = df_train.total_bedrooms.mean()\n",
    "x_train_z = x_train_z.values\n",
    "x_train_m = x_train_m.values\n"
   ]
  },
  {
   "cell_type": "code",
   "execution_count": 540,
   "id": "4ceb9fd3",
   "metadata": {},
   "outputs": [],
   "source": [
    "def train_linear_reg(X,y):\n",
    "    ones = np.ones(X.shape[0])\n",
    "    X = np.column_stack([ones, X])\n",
    "    \n",
    "    XTX = X.T.dot(X)\n",
    "    XTXI = np.linalg.inv(XTX)\n",
    "    \n",
    "    W = XTXI.dot(X.T).dot(y)\n",
    "    return W\n"
   ]
  },
  {
   "cell_type": "code",
   "execution_count": 541,
   "id": "7d896109",
   "metadata": {},
   "outputs": [],
   "source": [
    "wz = train_linear_reg(x_train_z,y_train)\n",
    "wm = train_linear_reg(x_train_m,y_train)\n"
   ]
  },
  {
   "cell_type": "code",
   "execution_count": 542,
   "id": "8c1d0d58",
   "metadata": {},
   "outputs": [],
   "source": [
    "def rmse(y, y_pred):\n",
    "    error = y_pred - y\n",
    "    mse = (error ** 2).mean()\n",
    "    return np.sqrt(mse)"
   ]
  },
  {
   "cell_type": "code",
   "execution_count": 543,
   "id": "a04b4934",
   "metadata": {},
   "outputs": [],
   "source": [
    "def prepare(X):\n",
    "    X_z = X.copy()\n",
    "    X_m = X.copy()\n",
    "    X_z = X_z.fillna(0)\n",
    "    X_m = X_m.fillna(req_mean)\n",
    "    return X_z.values,X_m.values"
   ]
  },
  {
   "cell_type": "code",
   "execution_count": 544,
   "id": "ad4cdf2e",
   "metadata": {},
   "outputs": [],
   "source": [
    "x_val_z,x_val_m = prepare(df_val)\n"
   ]
  },
  {
   "cell_type": "code",
   "execution_count": 545,
   "id": "fe6fb955",
   "metadata": {},
   "outputs": [
    {
     "data": {
      "text/plain": [
       "Index(['longitude', 'latitude', 'housing_median_age', 'total_rooms',\n",
       "       'total_bedrooms', 'population', 'households', 'median_income'],\n",
       "      dtype='object')"
      ]
     },
     "execution_count": 545,
     "metadata": {},
     "output_type": "execute_result"
    }
   ],
   "source": [
    "df_val.columns"
   ]
  },
  {
   "cell_type": "code",
   "execution_count": 546,
   "id": "f2118431",
   "metadata": {},
   "outputs": [],
   "source": [
    "def linear_regression(w,x):\n",
    "    Y = x.dot(w)\n",
    "    return Y"
   ]
  },
  {
   "cell_type": "code",
   "execution_count": 547,
   "id": "53a97b62",
   "metadata": {},
   "outputs": [
    {
     "data": {
      "text/plain": [
       "array([11.71830182, 12.47794996, 11.84203817, ..., 12.40213723,\n",
       "       12.06030557, 12.06854096])"
      ]
     },
     "execution_count": 547,
     "metadata": {},
     "output_type": "execute_result"
    }
   ],
   "source": [
    "y_val_pred = wz[0]+linear_regression(wz[1:],x_val_z)\n",
    "y_val_pred"
   ]
  },
  {
   "cell_type": "code",
   "execution_count": 548,
   "id": "ba286317",
   "metadata": {},
   "outputs": [
    {
     "data": {
      "text/plain": [
       "0.34084790341590543"
      ]
     },
     "execution_count": 548,
     "metadata": {},
     "output_type": "execute_result"
    }
   ],
   "source": [
    "rsme(y_val_pred,y_val)"
   ]
  },
  {
   "cell_type": "code",
   "execution_count": 549,
   "id": "a410ac1f",
   "metadata": {},
   "outputs": [
    {
     "data": {
      "text/plain": [
       "array([11.71462282, 12.47428049, 11.84127314, ..., 12.39294053,\n",
       "       12.05541417, 12.06224727])"
      ]
     },
     "execution_count": 549,
     "metadata": {},
     "output_type": "execute_result"
    }
   ],
   "source": [
    "y_val_pred = wm[0]+linear_regression(wm[1:],x_val_m)\n",
    "y_val_pred"
   ]
  },
  {
   "cell_type": "code",
   "execution_count": 550,
   "id": "0e51b3c6",
   "metadata": {},
   "outputs": [
    {
     "data": {
      "text/plain": [
       "0.3405699801433095"
      ]
     },
     "execution_count": 550,
     "metadata": {},
     "output_type": "execute_result"
    }
   ],
   "source": [
    "rsme(y_val_pred,y_val)"
   ]
  },
  {
   "cell_type": "markdown",
   "id": "0ef65e90",
   "metadata": {},
   "source": [
    "### Q4"
   ]
  },
  {
   "cell_type": "code",
   "execution_count": 551,
   "id": "a0b223e5",
   "metadata": {},
   "outputs": [],
   "source": [
    "def train_linear_reg_r(X,y,r):\n",
    "    ones = np.ones(X.shape[0])\n",
    "    X = np.column_stack([ones, X])\n",
    "    \n",
    "    XTX = X.T.dot(X)\n",
    "    reg = r * np.eye(XTX.shape[0])\n",
    "    XTX = XTX + reg\n",
    "    XTXI = np.linalg.inv(XTX)\n",
    "    \n",
    "    W = XTXI.dot(X.T).dot(y)\n",
    "    return W"
   ]
  },
  {
   "cell_type": "code",
   "execution_count": 552,
   "id": "4595150b",
   "metadata": {},
   "outputs": [],
   "source": [
    "x_train_r = df_train.copy()\n",
    "x_train_r = x_train_r.fillna(0)\n",
    "x_val_r = df_val.copy()\n",
    "x_val_r = x_val_r.fillna(0)\n"
   ]
  },
  {
   "cell_type": "code",
   "execution_count": 553,
   "id": "63823b07",
   "metadata": {},
   "outputs": [
    {
     "name": "stdout",
     "output_type": "stream",
     "text": [
      "0 = 0.34\n",
      "1e-06 = 0.34\n",
      "0.0001 = 0.34\n",
      "0.001 = 0.34\n",
      "0.01 = 0.34\n",
      "0.1 = 0.34\n",
      "1 = 0.34\n",
      "5 = 0.35\n",
      "10 = 0.35\n"
     ]
    }
   ],
   "source": [
    "for i in [0, 0.000001, 0.0001, 0.001, 0.01, 0.1, 1, 5, 10]:\n",
    "    W = train_linear_reg_r(x_train_r,y_train,i)\n",
    "    y_pred = W[0]+linear_regression(W[1:],x_val_r)\n",
    "    print(i, '=', rsme(y_pred,y_val).round(2))"
   ]
  },
  {
   "cell_type": "markdown",
   "id": "5fc3857e",
   "metadata": {},
   "source": [
    "## Q5"
   ]
  },
  {
   "cell_type": "code",
   "execution_count": 554,
   "id": "83f82f48",
   "metadata": {},
   "outputs": [
    {
     "name": "stdout",
     "output_type": "stream",
     "text": [
      "0 = 0.3377387160067942\n",
      "1 = 0.3454820450563977\n",
      "2 = 0.3322033125381122\n",
      "3 = 0.33118280913356374\n",
      "4 = 0.33480237565155974\n",
      "5 = 0.3334130184720213\n",
      "6 = 0.3325233483442222\n",
      "7 = 0.3395291337381445\n",
      "8 = 0.3308079495284524\n",
      "9 = 0.34831713447467477\n",
      "0.006\n"
     ]
    }
   ],
   "source": [
    "#\n",
    "df_size = df.shape[0]\n",
    "s = np.arange(df_size)\n",
    "#\n",
    "df_test_size = int(df_size*0.2)\n",
    "df_val_size = int(df_size*0.2)\n",
    "df_train_size = df_size- df_test_size- df_val_size\n",
    "#\n",
    "rme = []\n",
    "for i in range(10):\n",
    "    np.random.seed(i)\n",
    "    np.random.shuffle(s)\n",
    "    #\n",
    "    df_train = df.iloc[s[:df_train_size]]\n",
    "    df_val = df.iloc[s[df_train_size:df_train_size+df_val_size]]\n",
    "    df_test = df.iloc[s[df_train_size+df_val_size:]]\n",
    "    #\n",
    "    df_train = df_train.reset_index(drop = True)\n",
    "    df_val = df_val.reset_index(drop = True)\n",
    "    df_test = df_test.reset_index(drop = True)\n",
    "    #\n",
    "    df_train_size, df_val_size, df_test_size\n",
    "    #\n",
    "    \n",
    "    #\n",
    "    y_train = df_train['median_house_value'].values\n",
    "    y_val = df_val['median_house_value'].values\n",
    "    y_test = df_test['median_house_value'].values\n",
    "    #\n",
    "    del df_train['median_house_value']\n",
    "    del df_test['median_house_value']\n",
    "    del df_val['median_house_value']\n",
    "    #\n",
    "    y_train = np.log1p(y_train)\n",
    "    y_val = np.log1p(y_val)\n",
    "    y_test = np.log1p(y_test)\n",
    "    #\n",
    "    x_train = df_train.copy()\n",
    "    x_train = x_train.fillna(0)\n",
    "    x_train = x_train.values\n",
    "    #\n",
    "    x_val = df_val\n",
    "    x_val = x_val.fillna(0)\n",
    "    x_val = x_val.values\n",
    "    #\n",
    "    W = train_linear_reg(x_train,y_train)\n",
    "    y_pred = W[0]+linear_regression(W[1:],x_val)\n",
    "    print(i,'=',rsme(y_pred,y_val))\n",
    "    rme.append(rsme(y_pred,y_val))\n",
    "#\n",
    "rme = np.array(rme)\n",
    "ans = np.std(rme)\n",
    "print(ans.round(3))"
   ]
  },
  {
   "cell_type": "markdown",
   "id": "4367927b",
   "metadata": {},
   "source": [
    "## Q6"
   ]
  },
  {
   "cell_type": "code",
   "execution_count": 555,
   "id": "3613d66b",
   "metadata": {},
   "outputs": [
    {
     "data": {
      "text/plain": [
       "(9413, 6274)"
      ]
     },
     "execution_count": 555,
     "metadata": {},
     "output_type": "execute_result"
    }
   ],
   "source": [
    "#\n",
    "df_size = df.shape[0]\n",
    "s = np.arange(df_size)\n",
    "#\n",
    "df_test_size = int(df_size*0.4)\n",
    "\n",
    "df_train_size = df_size- df_test_size\n",
    "#\n",
    "np.random.seed(9)\n",
    "np.random.shuffle(s)\n",
    "#\n",
    "df_train = df.iloc[s[:df_train_size]]\n",
    "\n",
    "df_test = df.iloc[s[df_train_size:]]\n",
    "#\n",
    "df_train = df_train.reset_index(drop = True)\n",
    "df_test = df_test.reset_index(drop = True)\n",
    "#\n",
    "df_train_size ,df_test_size"
   ]
  },
  {
   "cell_type": "code",
   "execution_count": 556,
   "id": "3fe466e3",
   "metadata": {},
   "outputs": [],
   "source": [
    "y_train = df_train.median_house_value.values\n",
    "y_test = df_test.median_house_value.values\n",
    "y_train = np.log1p(y_train)\n",
    "y_test = np.log1p(y_test)\n",
    "del df_train['median_house_value']\n",
    "del df_test['median_house_value'] "
   ]
  },
  {
   "cell_type": "code",
   "execution_count": 557,
   "id": "acd51bfe",
   "metadata": {},
   "outputs": [
    {
     "name": "stdout",
     "output_type": "stream",
     "text": [
      "0.33451998017785317\n"
     ]
    }
   ],
   "source": [
    "x_train = df_train.fillna(0).values\n",
    "x_test = df_test.fillna(0).values\n",
    "W = train_linear_reg_r(x_train,y_train,0.001)\n",
    "y_pred = W[0]+linear_regression(W[1:],x_test)\n",
    "print(rsme(y_pred,y_test))"
   ]
  }
 ],
 "metadata": {
  "kernelspec": {
   "display_name": "Python 3 (ipykernel)",
   "language": "python",
   "name": "python3"
  },
  "language_info": {
   "codemirror_mode": {
    "name": "ipython",
    "version": 3
   },
   "file_extension": ".py",
   "mimetype": "text/x-python",
   "name": "python",
   "nbconvert_exporter": "python",
   "pygments_lexer": "ipython3",
   "version": "3.9.7"
  }
 },
 "nbformat": 4,
 "nbformat_minor": 5
}
