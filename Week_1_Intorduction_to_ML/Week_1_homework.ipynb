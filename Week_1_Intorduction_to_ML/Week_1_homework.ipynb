{
 "cells": [
  {
   "cell_type": "code",
   "execution_count": 4,
   "id": "7930b0d9",
   "metadata": {},
   "outputs": [],
   "source": [
    "import numpy as np\n",
    "import pandas as pd"
   ]
  },
  {
   "cell_type": "code",
   "execution_count": 5,
   "id": "f7d285d1",
   "metadata": {},
   "outputs": [
    {
     "data": {
      "text/plain": [
       "'1.3.4'"
      ]
     },
     "execution_count": 5,
     "metadata": {},
     "output_type": "execute_result"
    }
   ],
   "source": [
    "#What's the version of Pandas that you installed?\n",
    "pd.__version__"
   ]
  },
  {
   "cell_type": "code",
   "execution_count": 6,
   "id": "519c3309",
   "metadata": {},
   "outputs": [],
   "source": [
    "housing_df = pd.read_csv('C:/Users/LENOVO/Documents/ML_Zoomcamp_by_DataTalksCLub/Week_1_Intorduction_to_ML/raw.githubusercontent.com_alexeygrigorev_datasets_master_housing.csv')"
   ]
  },
  {
   "cell_type": "code",
   "execution_count": 7,
   "id": "191b8c10",
   "metadata": {},
   "outputs": [
    {
     "data": {
      "text/plain": [
       "(20640, 10)"
      ]
     },
     "execution_count": 7,
     "metadata": {},
     "output_type": "execute_result"
    }
   ],
   "source": [
    "#How many columns are in the dataset?\n",
    "housing_df.shape"
   ]
  },
  {
   "cell_type": "code",
   "execution_count": 8,
   "id": "85933882",
   "metadata": {},
   "outputs": [],
   "source": [
    "df = housing_df.copy()"
   ]
  },
  {
   "cell_type": "code",
   "execution_count": 9,
   "id": "138cef86",
   "metadata": {},
   "outputs": [
    {
     "data": {
      "text/plain": [
       "Index(['longitude', 'latitude', 'housing_median_age', 'total_rooms',\n",
       "       'total_bedrooms', 'population', 'households', 'median_income',\n",
       "       'median_house_value', 'ocean_proximity'],\n",
       "      dtype='object')"
      ]
     },
     "execution_count": 9,
     "metadata": {},
     "output_type": "execute_result"
    }
   ],
   "source": [
    "df.columns"
   ]
  },
  {
   "cell_type": "code",
   "execution_count": 10,
   "id": "204e7a74",
   "metadata": {},
   "outputs": [
    {
     "data": {
      "text/plain": [
       "(0, 207)"
      ]
     },
     "execution_count": 10,
     "metadata": {},
     "output_type": "execute_result"
    }
   ],
   "source": [
    "#Which columns in the dataset have missing values?\n",
    "df['total_rooms'].isna().sum(),df['total_bedrooms'].isna().sum()"
   ]
  },
  {
   "cell_type": "code",
   "execution_count": 11,
   "id": "ce53547a",
   "metadata": {},
   "outputs": [
    {
     "data": {
      "text/plain": [
       "5"
      ]
     },
     "execution_count": 11,
     "metadata": {},
     "output_type": "execute_result"
    }
   ],
   "source": [
    "#How many unique values does the ocean_proximity column have?\n",
    "df['ocean_proximity'].unique().shape[0]"
   ]
  },
  {
   "cell_type": "code",
   "execution_count": 12,
   "id": "6f016840",
   "metadata": {},
   "outputs": [
    {
     "data": {
      "text/plain": [
       "array(['NEAR BAY', '<1H OCEAN', 'INLAND', 'NEAR OCEAN', 'ISLAND'],\n",
       "      dtype=object)"
      ]
     },
     "execution_count": 12,
     "metadata": {},
     "output_type": "execute_result"
    }
   ],
   "source": [
    "df['ocean_proximity'].unique()"
   ]
  },
  {
   "cell_type": "code",
   "execution_count": 13,
   "id": "ffbff9e0",
   "metadata": {},
   "outputs": [
    {
     "name": "stdout",
     "output_type": "stream",
     "text": [
      "259212\n"
     ]
    }
   ],
   "source": [
    "#What's the average value of the median_house_value for the houses located near the bay?\n",
    "near_bay = df[df['ocean_proximity'] == 'NEAR BAY']\n",
    "median_housing_values = near_bay['median_house_value']\n",
    "mmhv = int(median_housing_values.mean())\n",
    "print(mmhv)"
   ]
  },
  {
   "cell_type": "code",
   "execution_count": 14,
   "id": "9ce1b8ef",
   "metadata": {},
   "outputs": [
    {
     "name": "stdout",
     "output_type": "stream",
     "text": [
      "537.8705525375618 537.8705525375618\n",
      "No change\n",
      "537.8705525375618 3132.1314437984497\n",
      "Yes,after changing the parameters of fillna function\n"
     ]
    }
   ],
   "source": [
    "#Calculate the average of total_bedrooms column in the dataset.\n",
    "#Use the fillna method to fill the missing values in total_bedrooms with the mean value from the previous step.\n",
    "#Now, calculate the average of total_bedrooms again.\n",
    "#Has it changed?\n",
    "\n",
    "# Without filling in place is 1st solution \n",
    "beforena = df['total_bedrooms'].mean()\n",
    "df['total_bedrooms'].fillna(mmhv,inplace = False)\n",
    "afterna = df['total_bedrooms'].mean()\n",
    "print(beforena,afterna)\n",
    "print('No change')\n",
    "# With Filling is second soultion\n",
    "beforena = df['total_bedrooms'].mean()\n",
    "df['total_bedrooms'].fillna(mmhv,inplace = True)\n",
    "afterna = df['total_bedrooms'].mean()\n",
    "print(beforena,afterna)\n",
    "print('Yes,after changing the parameters of fillna function')"
   ]
  },
  {
   "cell_type": "code",
   "execution_count": 15,
   "id": "eb14ba7b",
   "metadata": {},
   "outputs": [
    {
     "data": {
      "text/plain": [
       "array([23.12330961, -1.48124183,  5.69922946])"
      ]
     },
     "execution_count": 15,
     "metadata": {},
     "output_type": "execute_result"
    }
   ],
   "source": [
    "#Select all the options located on islands.\n",
    "islands = df[df['ocean_proximity'] == 'ISLAND']\n",
    "#\n",
    "X = np.array(islands[['housing_median_age','total_rooms','total_bedrooms']])\n",
    "#\n",
    "XTX = np.dot(X.transpose(),X)\n",
    "XTX_inverse = np.linalg.inv(XTX)\n",
    "y = np.array([950,1300,800,1000,1300])\n",
    "Y = np.dot(XTX_inverse,X.transpose())\n",
    "w = np.dot(Y,y)\n",
    "w"
   ]
  }
 ],
 "metadata": {
  "kernelspec": {
   "display_name": "Python 3 (ipykernel)",
   "language": "python",
   "name": "python3"
  },
  "language_info": {
   "codemirror_mode": {
    "name": "ipython",
    "version": 3
   },
   "file_extension": ".py",
   "mimetype": "text/x-python",
   "name": "python",
   "nbconvert_exporter": "python",
   "pygments_lexer": "ipython3",
   "version": "3.9.7"
  }
 },
 "nbformat": 4,
 "nbformat_minor": 5
}
